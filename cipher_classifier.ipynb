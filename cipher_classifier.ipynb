{
 "cells": [
  {
   "cell_type": "code",
   "execution_count": 2,
   "id": "0fc273cb-cd58-4571-b652-8b0ea4e06fd2",
   "metadata": {},
   "outputs": [
    {
     "name": "stdout",
     "output_type": "stream",
     "text": [
      "['ciphertext', 'Id', 'target']\n"
     ]
    }
   ],
   "source": [
    "import pandas as pd\n",
    "\n",
    "# Eğitim verisini oku ve değişkene ata\n",
    "df = pd.read_csv(\"train.csv\")\n",
    "\n",
    "# Sütun adlarını görüntüle\n",
    "print(df.columns.tolist())\n"
   ]
  },
  {
   "cell_type": "code",
   "execution_count": 3,
   "id": "b1ae916e-68c5-4edc-a984-a854c51deb88",
   "metadata": {},
   "outputs": [
    {
     "data": {
      "text/plain": [
       "(5631, 3)"
      ]
     },
     "execution_count": 3,
     "metadata": {},
     "output_type": "execute_result"
    }
   ],
   "source": [
    "df.shape\n"
   ]
  },
  {
   "cell_type": "code",
   "execution_count": 4,
   "id": "627fa964-10a7-4901-8c4c-4a0ae9591b8d",
   "metadata": {},
   "outputs": [
    {
     "name": "stdout",
     "output_type": "stream",
     "text": [
      "target\n",
      "15    328\n",
      "9     326\n",
      "11    312\n",
      "8     306\n",
      "7     305\n",
      "12    300\n",
      "2     291\n",
      "13    288\n",
      "1     288\n",
      "10    288\n",
      "16    286\n",
      "3     283\n",
      "4     282\n",
      "6     279\n",
      "17    276\n",
      "14    275\n",
      "5     274\n",
      "0     244\n",
      "18    219\n",
      "19    181\n",
      "Name: count, dtype: int64\n",
      "\n",
      "📌 Örnek Şifrelenmiş Metinler:\n",
      "['W)(7\\x1ayT7h8;Hv\\nlTcH;hHhNW)%HhMNPcHNG_Cy^PvMBMyCh9;Hv\\ny6yPcHG(HHMhvy:GOG/syPcu4Mhv\\x1ay}M\\x1ay\\x03\\x1e%vyr(yOch1M%)yP;vMUTyG((1;Hqy](3M)Tyr(|sy_)q%H;i%v;(H\\x1ayPcHG(HHMhvsyp;HMT\\x1ay0+syX;Tv);ucv;(H\\x1ay3()1rsyOO]m6m(Tv;Hq6\\x1b(Tv\\x1ay\\x1e%)r\\nNL)%HhMNTcHNh(7sy9M\\n3()rT\\x1ayOch1M%)sysy:Hy%)v;h1MyFIk1q=(Er\"klTMkc(;%NhhTrNcvTNQX-N@-\\x1c`yT3%18M)lcvTNQX-N@-y^6Tn\"0\"Ij\"\"6TN3%18M)67%H6&j6/y3);vMT\\x1asy\\x1cysy\\x1cysy\\x1cy:y)M%11\\nyr(HUvy8H(3y3\\x1eM)Myv(y (Tvyv\\x1e;TykcMTv;(HyT(y:yL;qc)Mryv\\x1e%vsy\\x1cyv\\x1e;Tyu(%)ry3(c1ryuMy7(Tvy%  )( );%vMNsy\\x1cy:y3%Ty3(HrM);Hqy%u(cvyv\\x1e(TMy7%TT;BMyh(Hh)MvMyh\\n1;HrM)Tyv\\x1e%vsy\\x1cy%)MyMBM)y )MTMHvy%vyHch1M%)y (M)yT;vMTNy]\\x1eM\\ny1((8y1;8Myh\\n1;HrM)Tsy\\x1cyv\\x1e%vy\\x1e%BMyuMMHy ;Hh\\x1eMry;Hyv\\x1eMy7;rr1MNyX(MTy%H\\nu(r\\ny8H(3y3\\x1e%vyv\\x1eMsy\\x1cy%hvc%1y c) (TMy(Lyv\\x1e(TMyv\\x1e;HqTy%)M|Ny:y\\x1eM%)yv\\x1e%vyv\\x1eM\\nU)Myh%11Mrsy\\x1cyUG((1;Hqy](3M)TUyucvy3\\x1e%vyv\\x1eMy\\x1eMh8yr(yv\\x1eM\\nyh((1|sysy\\x03%vM)NyOch1M%)yTv%v;(HTyr(HUvyqMHM)%vMyM1Mhv);h;v\\nyr;)Mhv1\\nyL)(7yv\\x1eMsy)M%hv()`yv\\x1eM\\nycTMyv\\x1eMy)M%hv()yv(yqMHM)%vMy\\x1eM%vNy]\\x1eMy\\x1eM%vy;Tyv\\x1eMHycTMryv(sy\\x1eM%vy3%vM)y4cTvy%Ty;Hy%yh(HBMHv;(H%1y(;1y()yh(%1yTv%v;(H`y%Hryv\\x1eMsy)MTc1v%HvyTvM%7yr);BMTyv\\x1eMyvc)u;HMTNsysy]\\x1eMyh((1;Hqyv(3M)Ty%)MycTMryv(yh((1yv\\x1eMyTvM%7y%Hry)Mh(HrMHTMy;vy;Hv(y3%vM)syv(yh(Hv;HcMyv\\x1eMyh\\nh1MsysyPvMBMsysy66ysyPvMBMyCh9;Hv\\nsyPcHyC;h)(T\\nTvM7Ty:GOGsy?n0\\x02jyCM\\n1%H`yW)%HhMsyM7%;1\\x1ayT7h8;Hv\\nlL)%HhMNTcHNh(7,yyya:\\x10\\x1ayT7h8;Hv\\ns', 'W)(7\\x1ayqv(H3cl-iNHv\\x1ecNMrcNv3y^](H\\ny\\tNy\\x03c/syPcu4Mhv\\x1ay}M\\x1ayOMMryB;rM(yr);BM)TyL()y]TMHqy])cM6h(1()ysy_)q%H;i%v;(H\\x1ayO%v;(H%1y]T;Hqy\\x1bc%y-H;BM)T;v\\ny^\\x1bT;HG\\x1ec/sy\\x106OM3T)M%rM)\\x1ay]:OyxBM)T;(HyINIympn2syp;HMT\\x1ay0+sysy](H\\ny\\tNy\\x03cy^qv(H3cl-iNHv\\x1ecNMrcNv3/y3)(vM\\x1asysy\\x1cy\\x1bM11(Nsysy\\x1cyyyyyy:y c)h\\x1e%TMry%yB;rM(yh%)ryh%11MryQ]6\\x02jjjyv)cMyh(1()yh%)ry3\\x1e;h\\x1esy\\x1cyyyyyyh%Hy )(B;rMy%u(cvyI\"jj9yh(1()TNyacvyv\\x1eMykcMTv;(Hy;Ty:yh%HUvyL;Hrsy\\x1cyyyyyyv\\x1eMyh())MT (Hr;Hqyr);BM)TyL()y3;Hr(3Ty?NIy`y:y%7yH(3ycT;Hqy+&8sy\\x1cyyyyyyh(1()Tyr);BM)yL()y3;H?INy:vy3()8TyL;HMy`yucvy:yv\\x1e;H8y;vy3;11yuMsy\\x1cyyyyyyuMvvM)y;Ly:ycTMyI\"jj8yr);BM)NyP(`y 1M%TMyvM11y7My3\\x1eMv\\x1eM)yTch\\x1ey%sy\\x1cyyyyyyr);BM)y;Ty%B%;1%u1Mywsysy\\x1cyyyyyy]\\x1e%H8Ty;Hy%rB%HhMNsysysyyy:y%7yT())\\nNyC\\nyh%)ryh%Hyr;T 1%\\ny%u(cvyI\"jjj9yh(1()TyH(vyI\"jj9yh(1()TNsysyyy:y\\x1e( MyT(7My(HMyh(c1ry%HT3M)y7\\nykcMTv;(Hywsysyyy]\\x1e%H8TNsysysy66ysyZZZZZZZZZZZZZZZZZZZZZy^yW()MBM)yy0?`yyC;h\\x1e%M1y\\\\()r%HN/yZZZZZZZZZZZZZZZZZZZZZsyyyyy](H\\ny\\tNy\\x03cyyyyyyyyyyyyyyyyyyyyyyyyyyyyyyyyyyyyyqv(H3clciNHv\\x1ecNMrcNv3ysyyyyyG@Q5}\\x1eM(1(q\\nyp%uNyyO]\\x1b-Nyyyyyyyyyyyyyyyyyyyyyyyv(H\\nlh\\x1eMNHv\\x1ecNMrcNv3syyyys', 'W)(7\\x1ayqM()qMl7;HTvM)N\\n()8N%hNc8syPcu4Mhv\\x1ayO(H63()ry %TT3()ryqMHM)%v()sy_)q%H;i%v;(H\\x1ayXM %)v7MHvy(LyG(7 cvM)yPh;MHhM`y-H;BM)T;v\\ny(Ly<()8`yQHq1%Hrsyp;HMT\\x1ayIjsysyX(MTy%H\\n(HMy8H(3y(Ly%yH(H63()ry %TT3()ryqMHM)%v()y )(q)%7syL()ymGUT||y;NMNy;vy3;11y )(rchMy%yH(HTMHTMy3()ryucvyTv;11syuMy )(H(cHh;u1MNyMNqNy1;Tq(11%Hsysy\\x03%HvMryv(yeL()hMeycTM)Tyv(y%r( vy7()MyTMhc)My %TT3()rT`syucvyTv;11yuMy7M7()%u1Mwsysy]\\x1e%H8Ty6y\\tM()qMya(1vsysy NTNy 1M%TMyM7%;1y7My%Ty3M11y;Ly (TT;u1MyeqM()qMl T\\nh\\x1e7; TN\\n()8N%hNc8es', 'W)(7\\x1ayH=j0j?&Il\\x1eMHT(HNhhN33cNMrcy^\\\\%7MTyX(cq1%TyXM16[Mhh\\x1e;(/syPcu4Mhv\\x1ay}M\\x1ayX(HUvy8H(h8yv\\x1eMy\\t1(h8y^3%Ty}M\\x1ayC\\ny\\tcHy;Ty1;8My7\\ny@7yQSyG%)r/sy_)q%H;i%v;(H\\x1ay\\x03MTvM)Hy\\x03%T\\x1e;Hqv(Hy-H;BM)T;v\\nsyX;Tv);ucv;(H\\x1aycT%syp;HMT\\x1ay0jsysysysy\\x1c:Hy%)v;h1MyFI==?@ )I&NI&0n?\\x02NI++?nl78T(1NrTMqNv;Nh(7\\x1c`y \\n)(HlT8Hr;BNrTMqNv;Nsyh(7sysysy\\x1c\\x1cPM);(cT1\\nNyy]\\x1eM)My;TyH(yr;LLM)MHhMy;Hyv\\x1eMyT%LMv;MTyuMv3MMH%y\\t1(h8y%Hry%H\\nyX@sy\\x1c\\x1c)MB(1BM)Nyy:HvM11Mhvc%11\\n`yv\\x1e;H8y(Lyv\\x1eMy\\t1(h8y%Ty%yBM)\\ny\\x1e;q\\x1eyh% y)MB(1BM)Nsy\\x1c\\x1c:qH();HqyTv(BMy ; MT`y7;TLMMrTy%Hry%11yv\\x1eMy(v\\x1eM)yu(HcTyMSM)h;TMTyv\\x1e%vsy\\x1c\\x1c%cv(1(%rM)Tyq;BMy\\n(c`yv\\x1e%vy;TNsysy_Hy%yX@y)MB(1BM)`y\\n(cyqMvy%H(v\\x1eM)yv)\\ny(Hy%y7;TL;)MNyy_Hy%y ;Tv(1y3\\x1eM)Msyv\\x1eMyv);qqM)yr(MTyH(vyh(h8yv\\x1eMy\\x1e%77M)`y1;8My%y\\\\MHH;HqT`y()y%Hy@Tv)%yC\\x02jj`sy()y%y\\t1(h8`y%y7;TL;)My)Mkc;)MTyv\\x1eMyT1;rMyuMyh\\nh1Mryv(yqMvyv\\x1eMyqcHyyv(syLcHhv;(HNsysy}%v\\x1eM)yv\\x1e%Hy%y\\x1e;q\\x1eyh% %h;v\\ny)MB(1BM)`yv\\x1e;H8y(Ly%y\\t1(h8y%Ty%Hy@Tv)%yC\\x02jjysy3;v\\x1eyH(y7%Hc%1yT%LMv\\ny%Hry%y\\x1eM%B;M)yv);qqM)y c11Nsysy\\\\;7yXM1y[Mhh\\x1e;(s', 'W)(7\\x1ay8()MHM8lH7v;Nh(7y^q%)\\ny8()MHM8/syPcu4Mhv\\x1ay}M\\x1ay\\x1b:O]y\\x02n+y[pa5:P@5Q:P@y7(v\\x1eM)u(%)rsy9M\\n3()rT\\x1ay\\x02n+`y7(v\\x1eM)u(%)rsy_)q%H;i%v;(H\\x1ayOMv3()8yC%H%qM7MHvy]Mh\\x1eH(1(q\\ny:HhNsyX;Tv);ucv;(H\\x1aycT%syp;HMT\\x1ay&&sysy:Hy%)v;h1MyFG&v\"\\tTN\"B?lHM3TN;%Tv%vMNMrc\\x1cyTh\\x1e%cLl;%Tv%vMNMrcy^a);%Hy\\\\yPh\\x1e%cLMHucM1/y3);vMT\\x1asy\\x1c:Hy%)v;h1MyF;rN\\x10OW*N[\\\\nlH7v;Nh(7\\x1cy8()MHM8lH7v;Nh(7y^q%)\\ny8()MHM8/y3);vMT\\x1asy\\x1c\\x1csy\\x1c\\x1c:yuM1;MBMyv\\x1e%vy%H\\ny[p5Q:P@5:P@y7(v\\x1eM)u(%)ryv\\x1e%vycTMTyv\\x1eMy\\x1b:O]yh\\x1e; TMvsy\\x1c\\x1c;Ty1;7;vMryv(y0\\x026u;vyQ:P@yXC@y^3\\x1eM)MyU)M%1UyQ:P@yXC@y;Ty?06u;v/Nyy]\\x1eMsy\\x1c\\x1c\\x1b:O]yQ:P@yXC@y\\x1e%Tyv\\x1eMyI+y7uy)%7y%rr)MTT;Hqy1;7;v%v;(Hy(Ly:P@NyyW()yv\\x1e;Tsy\\x1c\\x1c)M%T(Hy:y3(c1ry %TTNyy:y(3Hy(HMy(Lyv\\x1eMTMy^\\x1b@\\x039y[p5Q:P@5:P@/y%Hry%7y1((86sy\\x1c\\x1c;Hqyv(y)M 1%hMy;vyL()yMS%hv1\\nyv\\x1e;Ty)M%T(HNsy\\x1c\\x1cm1M%TMyr(cu1M6h\\x1eMh8y7My(Hyv\\x1e;TNyy:Hy(v\\x1eM)y3()rT`yh%11yv\\x1eMy7(v\\x1eM)u(%)rsy\\x1c\\x1c7%HcL%hvc)M)y%Hry%T8yv\\x1eM7y;Lyv\\x1eMy7(v\\x1eM)u(%)ryTc  ()vTyv)cMy?06u;vyQ:P@sy\\x1c\\x1cXC@Nsy\\x1c\\x1c_v\\x1eM)yv\\x1e%Hyv\\x1e;Ty1;7;v%v;(H`yv\\x1eMy7(v\\x1eM)u(%)ry3()8Tykc;vMy3M11y^:y%7ycT;Hqsy\\x1c\\x1c7;HMy3;v\\x1eyX_Py&`y\\x03;Hr(3Ty?NI`y%Hry-O:\\x10yP&}?N0/Nyy@1T(y3;v\\x1ey@r% vMhyI\"\\x020%sy\\x1c\\x1cQ:P@yPGP:y\\x1e(Tvy%r% vM)Nsy\\x1c\\x1c\\t%)\\ny9()MHM8yyy^8()MHM8lH7v;Nh(7/sy\\x1csy\\x1csy\\x1c<(cy%)Myh())Mhvwyy]\\x1eMy7(v\\x1eM)u(%)ry7%HcL%hvc)M)y3\\x1eM)My:ycTc%11\\nyuc\\nyu(%)rTyT%\\nTsy\\x1cv\\x1e%vyv\\x1eM\\ny3;11y\\x1e%BMyv\\x1e;Ty )(u1M7yL;SMry;Hy%u(cvyv3(y3MM8TNNNsy\\x1c>ya);%Hy\\\\yPh\\x1e%cLMHucM1sysy:yr(HUvyTMMyv\\x1e;Ty%Ty%y )(u1M7y3;v\\x1eyv\\x1eMyh\\x1e; 6TMvy^%y7;Tv%8M/`y:yTMMyv\\x1e;Tsy%TyT(7Mv\\x1e;Hqyv\\x1e%vy3%TyrMT;qHMr6;Hy;HvMHv;(H%11\\nNsysyP(y;vy3(c1ryTMM7yv\\x1e%vyv(yMH\\x1e%HhMyv\\x1eMyrMT;qHy^L)(7y0\\x02yv(y?06u;vyQ:P@yXC@/sy3(c1ry)Mkc;)My%Hyc r%vMyv(yv\\x1eMyh\\x1e; TMvNyy@Hyc r%vMyv(yv\\x1eMyh\\x1e; TMvy7%\\nysyuMq%vy%Hyc r%vMyv(yv\\x1eMy7(v\\x1eM)u(%)ryu(%)ryrMT;qHNsysy\\x03\\x1e%vy:U7yT%;Hqy;T\\x1ayy]\\x1eMy7(v\\x1eM)u(%)ry7%HcL%hvc)M)yTMM7Tyv(yuMy %TT;Hqyv\\x1e;Tsy(LLy%Ty%yT;7 1MyL;SNyy:Hy7\\ny7;Hryv\\x1eMyL;Sy;Ty%yc r%vMryh\\x1e; TMvyL)(7y\\x1b:O]ysy%1(Hqy3;v\\x1ey%y (TT;u1My7(v\\x1eM)u(%)ry1%\\n(cvyc r%vMNyy]\\x1e;Ty;TyH(vyT;7 1MNsy:Ly:y3M)My\\n(cy:y3(c1ryuMyh%cv;(cTy%u(cvyv\\x1e;TNsysy<(cy7;q\\x1evy1((8y;Hv(yv\\x1eMy@rB%HhMry:HvMq)%v;(Hy}MTM%)h\\x1ey^@:}/y[p5Q:P@sy7(v\\x1eM)u(%)rNyy@11yT1(vTy%)MyQ:P@5:P@yh% %u1MNyy0y^()y?/y(Lyv\\x1eMyT1(vTy%)Msy[p6ucTyh% %u1MNyy]\\x1eMy@:}y M( 1Myh(HL;)7Mryv\\x1e;Tyu(%)ryTc  ()vTyU)M%1Usy?06u;vyQ:P@yXC@y^:yh%11Mryv\\x1eM7/NyymMHv;c75m&y^|/yh% %u1MNyypMTTyMS MHT;BMsyv\\x1e%HyMkc;B%1MHvy@C:y()yC;h)(H;hTy[p5Q:P@yu(%)rNsysyp((8y;HyG(7 cvM)yP\\x1e(  M)y^@ );1yU=?/Nyy]\\x1eMy*QO_Oy%rTyT\\x1e(3yv\\x1eMy@:}y7(v\\x1eM)6syu(%)rNyy@y%TT(h;%vMyu(cq\\x1evyv\\x1eMy@:}yu(%)ry%Hry;Ty 1M%TMry3;v\\x1ey;vNyy:U7sy%vvM7 v;Hqyv(yqMvyv\\x1eMy1(h%1yrM%1M)yv(yv)%rMy(cvyv\\x1eMy\\x1b@\\x039yu(%)ryL()yv\\x1eMsy@:}yu(%)rNsysyC(rM1yHc7uM)y(Ly@:}yu(%)ry^3;v\\x1ey\\x02n+6??X\\x10/y;Tya\\x02??Q:0Nyy<(cyh%Hyh%11syC(v\\x1eM)u(%)ry\\x03%)M\\x1e(cTMy^L()yMS%7 1M/yL()y%y );hMNyym\\x1e(HMyoUTy;Hh1crMrsyuM1(3Nsysy@:}yyyyyyyyyyyyyyyyyyyy^\\x02jn/6\\x020n6jnjjsyC(v\\x1eM)u(%)ry\\x03%)M\\x1e(cTMyy^njj/6\\x02n+6==\"&sysy66ysy\\t%)\\ny9()MHM8yyy^8()MHM8lH7v;Nh(7/syOMv3()8yC%H%qM7MHvy]Mh\\x1eH(1(q\\ny:Hh() ()%vMrsyPcq%)yp%Hr`y]MS%Tyyyyyyy^\"I?/y0\"\\x026&?&\"s']\n"
     ]
    }
   ],
   "source": [
    "# Hedef sınıf dağılımı\n",
    "print(df['target'].value_counts())\n",
    "\n",
    "# Şifreli örnekler\n",
    "print(\"\\n📌 Örnek Şifrelenmiş Metinler:\")\n",
    "print(df['ciphertext'].head(5).tolist())\n"
   ]
  },
  {
   "cell_type": "code",
   "execution_count": 5,
   "id": "97bbf355-f5d8-4327-ab8c-cbecc7ef0cd8",
   "metadata": {},
   "outputs": [],
   "source": [
    "from sklearn.feature_extraction.text import CountVectorizer\n",
    "\n",
    "# 1-3 karakterlik ngram'lar, en sık geçen 1000 özellik\n",
    "vectorizer = CountVectorizer(analyzer='char', ngram_range=(1, 3), max_features=1000)\n",
    "X = vectorizer.fit_transform(df['ciphertext'])\n",
    "y = df['target']\n"
   ]
  },
  {
   "cell_type": "code",
   "execution_count": 6,
   "id": "ce1c1fdd-0d06-4338-9dd2-7fc6e4cb1114",
   "metadata": {},
   "outputs": [
    {
     "name": "stdout",
     "output_type": "stream",
     "text": [
      "              precision    recall  f1-score   support\n",
      "\n",
      "           0       0.62      0.61      0.62        49\n",
      "           1       0.46      0.41      0.44        58\n",
      "           2       0.67      0.64      0.65        58\n",
      "           3       0.42      0.54      0.48        57\n",
      "           4       0.56      0.54      0.55        56\n",
      "           5       0.80      0.73      0.76        55\n",
      "           6       0.72      0.75      0.74        56\n",
      "           7       0.54      0.64      0.59        61\n",
      "           8       0.79      0.67      0.73        61\n",
      "           9       0.73      0.69      0.71        65\n",
      "          10       0.79      0.78      0.78        58\n",
      "          11       0.76      0.68      0.72        62\n",
      "          12       0.44      0.38      0.41        60\n",
      "          13       0.60      0.67      0.63        58\n",
      "          14       0.61      0.65      0.63        55\n",
      "          15       0.70      0.67      0.68        66\n",
      "          16       0.61      0.65      0.63        57\n",
      "          17       0.75      0.80      0.77        55\n",
      "          18       0.51      0.50      0.51        44\n",
      "          19       0.49      0.50      0.49        36\n",
      "\n",
      "    accuracy                           0.63      1127\n",
      "   macro avg       0.63      0.63      0.63      1127\n",
      "weighted avg       0.63      0.63      0.63      1127\n",
      "\n"
     ]
    },
    {
     "name": "stderr",
     "output_type": "stream",
     "text": [
      "C:\\ProgramData\\anaconda3\\Lib\\site-packages\\sklearn\\linear_model\\_logistic.py:465: ConvergenceWarning: lbfgs failed to converge (status=1):\n",
      "STOP: TOTAL NO. OF ITERATIONS REACHED LIMIT.\n",
      "\n",
      "Increase the number of iterations (max_iter) or scale the data as shown in:\n",
      "    https://scikit-learn.org/stable/modules/preprocessing.html\n",
      "Please also refer to the documentation for alternative solver options:\n",
      "    https://scikit-learn.org/stable/modules/linear_model.html#logistic-regression\n",
      "  n_iter_i = _check_optimize_result(\n"
     ]
    }
   ],
   "source": [
    "from sklearn.model_selection import train_test_split\n",
    "from sklearn.linear_model import LogisticRegression\n",
    "from sklearn.metrics import classification_report\n",
    "\n",
    "# Veriyi ayır\n",
    "X_train, X_test, y_train, y_test = train_test_split(X, y, test_size=0.2, stratify=y, random_state=42)\n",
    "\n",
    "# Basit bir model\n",
    "model = LogisticRegression(max_iter=1000)\n",
    "model.fit(X_train, y_train)\n",
    "\n",
    "# Tahmin\n",
    "y_pred = model.predict(X_test)\n",
    "print(classification_report(y_test, y_pred))\n"
   ]
  },
  {
   "cell_type": "code",
   "execution_count": 7,
   "id": "686d2a4d-df00-4478-9ccf-2927a8282e37",
   "metadata": {},
   "outputs": [],
   "source": [
    "import pickle\n",
    "\n",
    "# Model ve vectorizer'ı birlikte kaydet\n",
    "with open(\"cipher_classifier.pkl\", \"wb\") as f:\n",
    "    pickle.dump((vectorizer, model), f)\n"
   ]
  },
  {
   "cell_type": "code",
   "execution_count": null,
   "id": "32f3f060-a633-4d3f-9a77-e74d9624ab14",
   "metadata": {},
   "outputs": [],
   "source": []
  },
  {
   "cell_type": "code",
   "execution_count": null,
   "id": "9e91f4c7-b659-4e85-9041-0fba7152e33f",
   "metadata": {},
   "outputs": [],
   "source": []
  }
 ],
 "metadata": {
  "kernelspec": {
   "display_name": "Python 3 (ipykernel)",
   "language": "python",
   "name": "python3"
  },
  "language_info": {
   "codemirror_mode": {
    "name": "ipython",
    "version": 3
   },
   "file_extension": ".py",
   "mimetype": "text/x-python",
   "name": "python",
   "nbconvert_exporter": "python",
   "pygments_lexer": "ipython3",
   "version": "3.12.9"
  }
 },
 "nbformat": 4,
 "nbformat_minor": 5
}
